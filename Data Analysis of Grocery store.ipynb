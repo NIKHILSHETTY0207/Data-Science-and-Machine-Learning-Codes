{
 "cells": [
  {
   "cell_type": "markdown",
   "metadata": {},
   "source": [
    "# Email-nikhilshetty0207@gmail.com\n",
    "#Phone number - 60953228805"
   ]
  },
  {
   "cell_type": "code",
   "execution_count": 1,
   "metadata": {},
   "outputs": [],
   "source": [
    "#Importing all the needed python libraries\n",
    "\n",
    "import pandas as pd\n",
    "import numpy as np\n",
    "import matplotlib.pyplot as plt\n",
    "import seaborn as sns\n",
    "from datetime import datetime\n",
    "import sys"
   ]
  },
  {
   "cell_type": "code",
   "execution_count": 6,
   "metadata": {},
   "outputs": [
    {
     "data": {
      "text/html": [
       "<div>\n",
       "<style scoped>\n",
       "    .dataframe tbody tr th:only-of-type {\n",
       "        vertical-align: middle;\n",
       "    }\n",
       "\n",
       "    .dataframe tbody tr th {\n",
       "        vertical-align: top;\n",
       "    }\n",
       "\n",
       "    .dataframe thead th {\n",
       "        text-align: right;\n",
       "    }\n",
       "</style>\n",
       "<table border=\"1\" class=\"dataframe\">\n",
       "  <thead>\n",
       "    <tr style=\"text-align: right;\">\n",
       "      <th></th>\n",
       "      <th>customer_id</th>\n",
       "      <th>gender</th>\n",
       "      <th>date</th>\n",
       "      <th>value</th>\n",
       "      <th>predicted_gender</th>\n",
       "    </tr>\n",
       "  </thead>\n",
       "  <tbody>\n",
       "    <tr>\n",
       "      <th>0</th>\n",
       "      <td>1000</td>\n",
       "      <td>0</td>\n",
       "      <td>2017-01-01 00:11:31</td>\n",
       "      <td>198.50</td>\n",
       "      <td>1</td>\n",
       "    </tr>\n",
       "    <tr>\n",
       "      <th>1</th>\n",
       "      <td>1001</td>\n",
       "      <td>0</td>\n",
       "      <td>2017-01-01 00:29:56</td>\n",
       "      <td>338.00</td>\n",
       "      <td>1</td>\n",
       "    </tr>\n",
       "    <tr>\n",
       "      <th>2</th>\n",
       "      <td>1002</td>\n",
       "      <td>1</td>\n",
       "      <td>2017-01-01 01:30:31</td>\n",
       "      <td>733.00</td>\n",
       "      <td>1</td>\n",
       "    </tr>\n",
       "    <tr>\n",
       "      <th>3</th>\n",
       "      <td>1003</td>\n",
       "      <td>1</td>\n",
       "      <td>2017-01-01 01:34:22</td>\n",
       "      <td>772.00</td>\n",
       "      <td>1</td>\n",
       "    </tr>\n",
       "    <tr>\n",
       "      <th>4</th>\n",
       "      <td>1004</td>\n",
       "      <td>0</td>\n",
       "      <td>2017-01-01 03:11:54</td>\n",
       "      <td>508.00</td>\n",
       "      <td>1</td>\n",
       "    </tr>\n",
       "    <tr>\n",
       "      <th>5</th>\n",
       "      <td>1005</td>\n",
       "      <td>1</td>\n",
       "      <td>2017-01-01 10:08:05</td>\n",
       "      <td>338.00</td>\n",
       "      <td>0</td>\n",
       "    </tr>\n",
       "    <tr>\n",
       "      <th>6</th>\n",
       "      <td>1006</td>\n",
       "      <td>1</td>\n",
       "      <td>2017-01-01 15:42:57</td>\n",
       "      <td>1526.43</td>\n",
       "      <td>1</td>\n",
       "    </tr>\n",
       "    <tr>\n",
       "      <th>7</th>\n",
       "      <td>1007</td>\n",
       "      <td>0</td>\n",
       "      <td>2017-01-01 15:59:50</td>\n",
       "      <td>168.00</td>\n",
       "      <td>0</td>\n",
       "    </tr>\n",
       "    <tr>\n",
       "      <th>8</th>\n",
       "      <td>1008</td>\n",
       "      <td>0</td>\n",
       "      <td>2017-01-01 18:01:04</td>\n",
       "      <td>207.99</td>\n",
       "      <td>0</td>\n",
       "    </tr>\n",
       "    <tr>\n",
       "      <th>9</th>\n",
       "      <td>1009</td>\n",
       "      <td>1</td>\n",
       "      <td>2017-01-01 19:27:17</td>\n",
       "      <td>283.00</td>\n",
       "      <td>1</td>\n",
       "    </tr>\n",
       "    <tr>\n",
       "      <th>10</th>\n",
       "      <td>1010</td>\n",
       "      <td>1</td>\n",
       "      <td>2017-01-01 19:41:40</td>\n",
       "      <td>1018.00</td>\n",
       "      <td>1</td>\n",
       "    </tr>\n",
       "    <tr>\n",
       "      <th>11</th>\n",
       "      <td>1011</td>\n",
       "      <td>1</td>\n",
       "      <td>2017-01-01 22:04:54</td>\n",
       "      <td>596.00</td>\n",
       "      <td>1</td>\n",
       "    </tr>\n",
       "    <tr>\n",
       "      <th>12</th>\n",
       "      <td>1012</td>\n",
       "      <td>1</td>\n",
       "      <td>2017-01-01 22:08:16</td>\n",
       "      <td>151.00</td>\n",
       "      <td>0</td>\n",
       "    </tr>\n",
       "    <tr>\n",
       "      <th>13</th>\n",
       "      <td>1013</td>\n",
       "      <td>0</td>\n",
       "      <td>2017-01-01 23:51:58</td>\n",
       "      <td>78.00</td>\n",
       "      <td>0</td>\n",
       "    </tr>\n",
       "    <tr>\n",
       "      <th>14</th>\n",
       "      <td>1014</td>\n",
       "      <td>1</td>\n",
       "      <td>2017-01-02 00:28:42</td>\n",
       "      <td>98.50</td>\n",
       "      <td>1</td>\n",
       "    </tr>\n",
       "    <tr>\n",
       "      <th>15</th>\n",
       "      <td>1015</td>\n",
       "      <td>0</td>\n",
       "      <td>2017-01-02 01:20:53</td>\n",
       "      <td>255.00</td>\n",
       "      <td>0</td>\n",
       "    </tr>\n",
       "    <tr>\n",
       "      <th>16</th>\n",
       "      <td>1016</td>\n",
       "      <td>1</td>\n",
       "      <td>2017-01-02 01:24:13</td>\n",
       "      <td>311.39</td>\n",
       "      <td>0</td>\n",
       "    </tr>\n",
       "    <tr>\n",
       "      <th>17</th>\n",
       "      <td>1017</td>\n",
       "      <td>0</td>\n",
       "      <td>2017-01-02 01:42:44</td>\n",
       "      <td>1000.00</td>\n",
       "      <td>0</td>\n",
       "    </tr>\n",
       "    <tr>\n",
       "      <th>18</th>\n",
       "      <td>1018</td>\n",
       "      <td>0</td>\n",
       "      <td>2017-01-02 01:52:59</td>\n",
       "      <td>274.60</td>\n",
       "      <td>0</td>\n",
       "    </tr>\n",
       "    <tr>\n",
       "      <th>19</th>\n",
       "      <td>1017</td>\n",
       "      <td>0</td>\n",
       "      <td>2017-01-02 02:08:52</td>\n",
       "      <td>186.00</td>\n",
       "      <td>0</td>\n",
       "    </tr>\n",
       "  </tbody>\n",
       "</table>\n",
       "</div>"
      ],
      "text/plain": [
       "    customer_id  gender                 date    value  predicted_gender\n",
       "0          1000       0  2017-01-01 00:11:31   198.50                 1\n",
       "1          1001       0  2017-01-01 00:29:56   338.00                 1\n",
       "2          1002       1  2017-01-01 01:30:31   733.00                 1\n",
       "3          1003       1  2017-01-01 01:34:22   772.00                 1\n",
       "4          1004       0  2017-01-01 03:11:54   508.00                 1\n",
       "5          1005       1  2017-01-01 10:08:05   338.00                 0\n",
       "6          1006       1  2017-01-01 15:42:57  1526.43                 1\n",
       "7          1007       0  2017-01-01 15:59:50   168.00                 0\n",
       "8          1008       0  2017-01-01 18:01:04   207.99                 0\n",
       "9          1009       1  2017-01-01 19:27:17   283.00                 1\n",
       "10         1010       1  2017-01-01 19:41:40  1018.00                 1\n",
       "11         1011       1  2017-01-01 22:04:54   596.00                 1\n",
       "12         1012       1  2017-01-01 22:08:16   151.00                 0\n",
       "13         1013       0  2017-01-01 23:51:58    78.00                 0\n",
       "14         1014       1  2017-01-02 00:28:42    98.50                 1\n",
       "15         1015       0  2017-01-02 01:20:53   255.00                 0\n",
       "16         1016       1  2017-01-02 01:24:13   311.39                 0\n",
       "17         1017       0  2017-01-02 01:42:44  1000.00                 0\n",
       "18         1018       0  2017-01-02 01:52:59   274.60                 0\n",
       "19         1017       0  2017-01-02 02:08:52   186.00                 0"
      ]
     },
     "execution_count": 6,
     "metadata": {},
     "output_type": "execute_result"
    }
   ],
   "source": [
    "#Loading the file into a DataFrame\n",
    "\n",
    "data =pd.read_csv(\"screening_exercise_orders_v201810.csv\")\n",
    "data.head(20)\n",
    "#data.columns"
   ]
  },
  {
   "cell_type": "code",
   "execution_count": 3,
   "metadata": {},
   "outputs": [
    {
     "name": "stdout",
     "output_type": "stream",
     "text": [
      "<class 'pandas.core.frame.DataFrame'>\n",
      "RangeIndex: 13471 entries, 0 to 13470\n",
      "Data columns (total 5 columns):\n",
      "customer_id         13471 non-null int64\n",
      "gender              13471 non-null int64\n",
      "date                13471 non-null object\n",
      "value               13471 non-null float64\n",
      "predicted_gender    13471 non-null int64\n",
      "dtypes: float64(1), int64(3), object(1)\n",
      "memory usage: 526.3+ KB\n"
     ]
    }
   ],
   "source": [
    "#Next few steps I performed Exploratory Data Analysis\n",
    "\n",
    "data.info()"
   ]
  },
  {
   "cell_type": "code",
   "execution_count": 4,
   "metadata": {},
   "outputs": [
    {
     "data": {
      "text/html": [
       "<div>\n",
       "<style scoped>\n",
       "    .dataframe tbody tr th:only-of-type {\n",
       "        vertical-align: middle;\n",
       "    }\n",
       "\n",
       "    .dataframe tbody tr th {\n",
       "        vertical-align: top;\n",
       "    }\n",
       "\n",
       "    .dataframe thead th {\n",
       "        text-align: right;\n",
       "    }\n",
       "</style>\n",
       "<table border=\"1\" class=\"dataframe\">\n",
       "  <thead>\n",
       "    <tr style=\"text-align: right;\">\n",
       "      <th></th>\n",
       "      <th>customer_id</th>\n",
       "      <th>gender</th>\n",
       "      <th>value</th>\n",
       "      <th>predicted_gender</th>\n",
       "    </tr>\n",
       "  </thead>\n",
       "  <tbody>\n",
       "    <tr>\n",
       "      <th>count</th>\n",
       "      <td>13471.000000</td>\n",
       "      <td>13471.000000</td>\n",
       "      <td>13471.000000</td>\n",
       "      <td>13471.000000</td>\n",
       "    </tr>\n",
       "    <tr>\n",
       "      <th>mean</th>\n",
       "      <td>5033.693564</td>\n",
       "      <td>0.498256</td>\n",
       "      <td>357.322179</td>\n",
       "      <td>0.642788</td>\n",
       "    </tr>\n",
       "    <tr>\n",
       "      <th>std</th>\n",
       "      <td>2500.179222</td>\n",
       "      <td>0.500016</td>\n",
       "      <td>387.210821</td>\n",
       "      <td>0.479196</td>\n",
       "    </tr>\n",
       "    <tr>\n",
       "      <th>min</th>\n",
       "      <td>1000.000000</td>\n",
       "      <td>0.000000</td>\n",
       "      <td>0.000000</td>\n",
       "      <td>0.000000</td>\n",
       "    </tr>\n",
       "    <tr>\n",
       "      <th>25%</th>\n",
       "      <td>2890.500000</td>\n",
       "      <td>0.000000</td>\n",
       "      <td>161.200000</td>\n",
       "      <td>0.000000</td>\n",
       "    </tr>\n",
       "    <tr>\n",
       "      <th>50%</th>\n",
       "      <td>4850.000000</td>\n",
       "      <td>0.000000</td>\n",
       "      <td>258.000000</td>\n",
       "      <td>1.000000</td>\n",
       "    </tr>\n",
       "    <tr>\n",
       "      <th>75%</th>\n",
       "      <td>7157.000000</td>\n",
       "      <td>1.000000</td>\n",
       "      <td>426.000000</td>\n",
       "      <td>1.000000</td>\n",
       "    </tr>\n",
       "    <tr>\n",
       "      <th>max</th>\n",
       "      <td>9813.000000</td>\n",
       "      <td>1.000000</td>\n",
       "      <td>8046.300000</td>\n",
       "      <td>1.000000</td>\n",
       "    </tr>\n",
       "  </tbody>\n",
       "</table>\n",
       "</div>"
      ],
      "text/plain": [
       "        customer_id        gender         value  predicted_gender\n",
       "count  13471.000000  13471.000000  13471.000000      13471.000000\n",
       "mean    5033.693564      0.498256    357.322179          0.642788\n",
       "std     2500.179222      0.500016    387.210821          0.479196\n",
       "min     1000.000000      0.000000      0.000000          0.000000\n",
       "25%     2890.500000      0.000000    161.200000          0.000000\n",
       "50%     4850.000000      0.000000    258.000000          1.000000\n",
       "75%     7157.000000      1.000000    426.000000          1.000000\n",
       "max     9813.000000      1.000000   8046.300000          1.000000"
      ]
     },
     "execution_count": 4,
     "metadata": {},
     "output_type": "execute_result"
    }
   ],
   "source": [
    "data.describe()"
   ]
  },
  {
   "cell_type": "code",
   "execution_count": 12,
   "metadata": {},
   "outputs": [
    {
     "name": "stdout",
     "output_type": "stream",
     "text": [
      "      customer_id                                               date\n",
      "0            1000                              [2017-01-01 00:11:31]\n",
      "1            1001                              [2017-01-01 00:29:56]\n",
      "2            1002  [2017-02-19 21:35:31, 2017-01-23 04:33:38, 201...\n",
      "3            1003  [2017-04-26 02:37:20, 2017-04-25 09:54:54, 201...\n",
      "4            1004                              [2017-01-01 03:11:54]\n",
      "5            1005         [2017-12-16 01:39:27, 2017-01-01 10:08:05]\n",
      "6            1006  [2017-05-09 15:27:20, 2017-03-09 00:31:51, 201...\n",
      "7            1007                              [2017-01-01 15:59:50]\n",
      "8            1008  [2017-12-17 05:47:48, 2017-01-03 19:23:39, 201...\n",
      "9            1009                              [2017-01-01 19:27:17]\n",
      "10           1010         [2017-04-28 13:31:11, 2017-01-01 19:41:40]\n",
      "11           1011                              [2017-01-01 22:04:54]\n",
      "12           1012                              [2017-01-01 22:08:16]\n",
      "13           1013                              [2017-01-01 23:51:58]\n",
      "14           1014                              [2017-01-02 00:28:42]\n",
      "15           1015  [2017-09-21 19:58:04, 2017-03-27 02:48:08, 201...\n",
      "16           1016                              [2017-01-02 01:24:13]\n",
      "17           1017         [2017-01-02 02:08:52, 2017-01-02 01:42:44]\n",
      "18           1018         [2017-01-23 01:34:52, 2017-01-02 01:52:59]\n",
      "19           1019                              [2017-01-02 02:17:03]\n",
      "20           1020  [2017-04-03 02:42:42, 2017-02-04 17:51:10, 201...\n",
      "21           1021         [2017-03-14 00:14:21, 2017-01-02 03:18:18]\n",
      "22           1022                              [2017-01-02 03:36:59]\n",
      "23           1023  [2017-03-04 21:15:18, 2017-02-28 15:47:48, 201...\n",
      "24           1024                              [2017-01-02 05:19:48]\n",
      "25           1025  [2017-05-11 19:57:33, 2017-01-23 05:24:16, 201...\n",
      "26           1026                              [2017-01-02 14:52:06]\n",
      "27           1027                              [2017-01-02 15:49:44]\n",
      "28           1028         [2017-01-22 22:27:15, 2017-01-02 16:41:13]\n",
      "29           1029                              [2017-01-02 17:01:25]\n",
      "...           ...                                                ...\n",
      "8784         9784                              [2017-12-30 20:38:45]\n",
      "8785         9785                              [2017-12-30 21:12:58]\n",
      "8786         9786                              [2017-12-30 21:36:03]\n",
      "8787         9787                              [2017-12-30 23:53:08]\n",
      "8788         9788                              [2017-12-31 00:26:48]\n",
      "8789         9789                              [2017-12-31 02:13:42]\n",
      "8790         9790                              [2017-12-31 03:15:10]\n",
      "8791         9791                              [2017-12-31 07:29:37]\n",
      "8792         9792                              [2017-12-31 12:50:05]\n",
      "8793         9793                              [2017-12-31 14:18:10]\n",
      "8794         9794                              [2017-12-31 15:13:51]\n",
      "8795         9795                              [2017-12-31 15:42:08]\n",
      "8796         9796                              [2017-12-31 16:19:48]\n",
      "8797         9797                              [2017-12-31 16:36:34]\n",
      "8798         9798                              [2017-12-31 17:36:37]\n",
      "8799         9799                              [2017-12-31 18:20:50]\n",
      "8800         9800                              [2017-12-31 18:33:23]\n",
      "8801         9801                              [2017-12-31 18:53:32]\n",
      "8802         9802                              [2017-12-31 18:55:09]\n",
      "8803         9803                              [2017-12-31 18:57:12]\n",
      "8804         9804                              [2017-12-31 19:49:44]\n",
      "8805         9805                              [2017-12-31 20:07:35]\n",
      "8806         9806                              [2017-12-31 21:08:36]\n",
      "8807         9807                              [2017-12-31 21:24:08]\n",
      "8808         9808                              [2017-12-31 21:39:27]\n",
      "8809         9809                              [2017-12-31 21:39:33]\n",
      "8810         9810                              [2017-12-31 22:16:20]\n",
      "8811         9811                              [2017-12-31 22:24:06]\n",
      "8812         9812                              [2017-12-31 23:01:10]\n",
      "8813         9813                              [2017-12-31 23:11:02]\n",
      "\n",
      "[8814 rows x 2 columns]\n"
     ]
    }
   ],
   "source": [
    "#Satified the Part A) of the requirement\n",
    "\n",
    "data[\"most_recent_order_date\"]=pd.to_datetime(data[\"date\"])\n",
    "#print(data[\"most_recent_order_date\"])\n",
    "\n",
    "grouped_df_date=data.sort_values(\"most_recent_order_date\",ascending=False).groupby(\"customer_id\")[\"date\"].apply(list).reset_index()\n",
    "#grouped_df_date=grouped_df_date.drop([1,2,3,4,5,6,7,8,9,10,11,12,13,14,15,16,17,18,19,20,21,22,23,24],axis=1)\n",
    "#grouped_df_date.columns=[\"customer_id\",\"most_recent_order_date\"]\n",
    "print(grouped_df_date)\n",
    "grouped_df_gender=data.sort_values(\"most_recent_order_date\",ascending=False).groupby(\"customer_id\")[\"gender\"].apply(list).apply(pd.Series).reset_index()\n",
    "grouped_df_gender=grouped_df_gender.drop([1,2,3,4,5,6,7,8,9,10,11,12,13,14,15,16,17,18,19,20,21,22,23,24],axis=1)\n",
    "grouped_df_gender.columns=[\"customer_id\",\"gender\"]\n",
    "#print(grouped_df_gender)\n",
    "grouped_df_count=data.sort_values(\"most_recent_order_date\",ascending=False).groupby(\"customer_id\").count()\n",
    "grouped_df_count=grouped_df_count.drop([\"date\",\"value\",\"predicted_gender\",\"most_recent_order_date\"],axis=1)\n",
    "grouped_df_count.columns=[\"order_count\"]\n",
    "type(grouped_df_count)\n",
    "#print(grouped_df_count)\n",
    "\n",
    "new_dataset=pd.merge(grouped_df_date,grouped_df_gender,on=\"customer_id\")\n",
    "new_dataset2=pd.merge(new_dataset,grouped_df_count, on=\"customer_id\")\n",
    "#new_dataset2.head(10)"
   ]
  },
  {
   "cell_type": "code",
   "execution_count": 118,
   "metadata": {},
   "outputs": [
    {
     "data": {
      "text/plain": [
       "<function matplotlib.pyplot.show(*args, **kw)>"
      ]
     },
     "execution_count": 118,
     "metadata": {},
     "output_type": "execute_result"
    },
    {
     "data": {
      "image/png": "[encoded data removed]",
      "text/plain": [
       "<Figure size 432x288 with 1 Axes>"
      ]
     },
     "metadata": {},
     "output_type": "display_data"
    }
   ],
   "source": [
    "#Satified the Part B) of the requirement\n",
    "\n",
    "df1=new_dataset2.loc[:,\"order_count\"].reset_index()\n",
    "df1[\"Week_num\"]=pd.to_datetime(new_dataset2[\"most_recent_order_date\"]).dt.week\n",
    "df2=df1.groupby(\"Week_num\").count()\n",
    "df2=df2.drop(\"index\",axis=1).reset_index()\n",
    "\n",
    "\n",
    "plt.scatter(x=df2[\"Week_num\"], y=df2[\"order_count\"])\n",
    "plt.show"
   ]
  },
  {
   "cell_type": "code",
   "execution_count": 119,
   "metadata": {},
   "outputs": [
    {
     "data": {
      "text/plain": [
       "363.89000591803506"
      ]
     },
     "execution_count": 119,
     "metadata": {},
     "output_type": "execute_result"
    }
   ],
   "source": [
    "#Satified the Part C) of the requirement\n",
    "#Ans: The mean expenditure of the Female gender is higher than that of the Male Gender but there is no significant change.I performed this on the original dataset and not the Part A) Dataframe which I created as the original set consist of the amount attribute and have conisdered the mean for all the customers who bought something from the store and not the uniuque customers\n",
    "\n",
    "data[data[\"gender\"]==0][\"value\"].mean()"
   ]
  },
  {
   "cell_type": "code",
   "execution_count": 120,
   "metadata": {
    "scrolled": true
   },
   "outputs": [
    {
     "data": {
      "text/plain": [
       "350.70836114422"
      ]
     },
     "execution_count": 120,
     "metadata": {},
     "output_type": "execute_result"
    }
   ],
   "source": [
    "data[data[\"gender\"]==1][\"value\"].mean()"
   ]
  },
  {
   "cell_type": "code",
   "execution_count": 121,
   "metadata": {},
   "outputs": [
    {
     "name": "stdout",
     "output_type": "stream",
     "text": [
      "   customer_id  value\n",
      "0         1000  198.5\n",
      "1         1001  338.0\n",
      "2         1002  733.0\n",
      "3         1003  772.0\n",
      "4         1004  508.0\n",
      "0    0\n",
      "1    0\n",
      "2    1\n",
      "3    1\n",
      "4    0\n",
      "Name: gender, dtype: int64\n"
     ]
    }
   ],
   "source": [
    "X=data.drop([\"predicted_gender\",\"most_recent_order_date\",\"date\",\"gender\"],axis=1)\n",
    "Y=data[\"gender\"]\n",
    "print(X.head())\n",
    "print(Y.head())"
   ]
  },
  {
   "cell_type": "code",
   "execution_count": 122,
   "metadata": {},
   "outputs": [],
   "source": [
    "#Satified the Part D) of the requirement on the original dataset,where I created my own Predictive model of an Ensemble method along with K Cross Validation to Predict the Gender and also created an Confusion Matrix which tells us about the Type 1 error (i.e the False Negative) and Type 2 error (i.e the False Positive) which are 575 and 658 for this scenario \n",
    "\n",
    "from sklearn.model_selection import train_test_split\n",
    "from sklearn import svm\n",
    "\n",
    "x_train,x_test,y_train,y_test = train_test_split(X,Y,test_size=0.2)"
   ]
  },
  {
   "cell_type": "code",
   "execution_count": 123,
   "metadata": {},
   "outputs": [],
   "source": [
    "from sklearn.ensemble import RandomForestClassifier\n",
    "rf=RandomForestClassifier(n_estimators=20)\n",
    "rf.fit(x_train,y_train)\n",
    "predictions = rf.predict(x_test)"
   ]
  },
  {
   "cell_type": "code",
   "execution_count": 124,
   "metadata": {},
   "outputs": [
    {
     "name": "stdout",
     "output_type": "stream",
     "text": [
      "              precision    recall  f1-score   support\n",
      "\n",
      "           0       0.55      0.56      0.56      1375\n",
      "           1       0.54      0.53      0.53      1320\n",
      "\n",
      "   micro avg       0.54      0.54      0.54      2695\n",
      "   macro avg       0.54      0.54      0.54      2695\n",
      "weighted avg       0.54      0.54      0.54      2695\n",
      "\n"
     ]
    }
   ],
   "source": [
    "from sklearn.metrics import classification_report,confusion_matrix\n",
    "print(classification_report(y_test,predictions))"
   ]
  },
  {
   "cell_type": "code",
   "execution_count": 125,
   "metadata": {},
   "outputs": [
    {
     "name": "stdout",
     "output_type": "stream",
     "text": [
      "[[773 602]\n",
      " [627 693]]\n"
     ]
    }
   ],
   "source": [
    "cm=confusion_matrix(y_test,predictions)\n",
    "print(cm)"
   ]
  },
  {
   "cell_type": "code",
   "execution_count": 126,
   "metadata": {},
   "outputs": [
    {
     "data": {
      "text/plain": [
       "<matplotlib.axes._subplots.AxesSubplot at 0x1a12ddfcf8>"
      ]
     },
     "execution_count": 126,
     "metadata": {},
     "output_type": "execute_result"
    },
    {
     "data": {
      "image/png": "[encoded data removed]",
      "text/plain": [
       "<Figure size 720x504 with 2 Axes>"
      ]
     },
     "metadata": {},
     "output_type": "display_data"
    }
   ],
   "source": [
    "#Visual representation of the confusion matrix\n",
    "\n",
    "df_cm=pd.DataFrame(cm,index=(0,1),columns=(0,1))\n",
    "plt.figure(figsize=(10,7))\n",
    "sns.heatmap(df_cm,annot=True,fmt='g')"
   ]
  },
  {
   "cell_type": "code",
   "execution_count": 127,
   "metadata": {},
   "outputs": [
    {
     "name": "stdout",
     "output_type": "stream",
     "text": [
      "0.5342500442359489\n"
     ]
    }
   ],
   "source": [
    "#Performed K-Cross Validation for the same inputs\n",
    "\n",
    "from sklearn.model_selection import cross_val_score\n",
    "accuracies=cross_val_score(estimator=rf,X=x_train,y=y_train,cv=10)\n",
    "print(accuracies.mean())"
   ]
  },
  {
   "cell_type": "code",
   "execution_count": 128,
   "metadata": {},
   "outputs": [
    {
     "data": {
      "text/html": [
       "<div>\n",
       "<style scoped>\n",
       "    .dataframe tbody tr th:only-of-type {\n",
       "        vertical-align: middle;\n",
       "    }\n",
       "\n",
       "    .dataframe tbody tr th {\n",
       "        vertical-align: top;\n",
       "    }\n",
       "\n",
       "    .dataframe thead th {\n",
       "        text-align: right;\n",
       "    }\n",
       "</style>\n",
       "<table border=\"1\" class=\"dataframe\">\n",
       "  <thead>\n",
       "    <tr style=\"text-align: right;\">\n",
       "      <th></th>\n",
       "      <th>index</th>\n",
       "      <th>Actual_gender</th>\n",
       "      <th>Predicted_gender</th>\n",
       "    </tr>\n",
       "  </thead>\n",
       "  <tbody>\n",
       "    <tr>\n",
       "      <th>0</th>\n",
       "      <td>5745</td>\n",
       "      <td>0</td>\n",
       "      <td>0</td>\n",
       "    </tr>\n",
       "    <tr>\n",
       "      <th>1</th>\n",
       "      <td>1443</td>\n",
       "      <td>1</td>\n",
       "      <td>0</td>\n",
       "    </tr>\n",
       "    <tr>\n",
       "      <th>2</th>\n",
       "      <td>4023</td>\n",
       "      <td>1</td>\n",
       "      <td>0</td>\n",
       "    </tr>\n",
       "    <tr>\n",
       "      <th>3</th>\n",
       "      <td>8826</td>\n",
       "      <td>1</td>\n",
       "      <td>1</td>\n",
       "    </tr>\n",
       "    <tr>\n",
       "      <th>4</th>\n",
       "      <td>5053</td>\n",
       "      <td>1</td>\n",
       "      <td>0</td>\n",
       "    </tr>\n",
       "    <tr>\n",
       "      <th>5</th>\n",
       "      <td>7750</td>\n",
       "      <td>1</td>\n",
       "      <td>1</td>\n",
       "    </tr>\n",
       "    <tr>\n",
       "      <th>6</th>\n",
       "      <td>2179</td>\n",
       "      <td>0</td>\n",
       "      <td>1</td>\n",
       "    </tr>\n",
       "    <tr>\n",
       "      <th>7</th>\n",
       "      <td>2349</td>\n",
       "      <td>0</td>\n",
       "      <td>0</td>\n",
       "    </tr>\n",
       "    <tr>\n",
       "      <th>8</th>\n",
       "      <td>9368</td>\n",
       "      <td>0</td>\n",
       "      <td>0</td>\n",
       "    </tr>\n",
       "    <tr>\n",
       "      <th>9</th>\n",
       "      <td>7376</td>\n",
       "      <td>1</td>\n",
       "      <td>1</td>\n",
       "    </tr>\n",
       "    <tr>\n",
       "      <th>10</th>\n",
       "      <td>5307</td>\n",
       "      <td>0</td>\n",
       "      <td>0</td>\n",
       "    </tr>\n",
       "    <tr>\n",
       "      <th>11</th>\n",
       "      <td>4413</td>\n",
       "      <td>1</td>\n",
       "      <td>0</td>\n",
       "    </tr>\n",
       "    <tr>\n",
       "      <th>12</th>\n",
       "      <td>1037</td>\n",
       "      <td>0</td>\n",
       "      <td>0</td>\n",
       "    </tr>\n",
       "    <tr>\n",
       "      <th>13</th>\n",
       "      <td>4605</td>\n",
       "      <td>0</td>\n",
       "      <td>1</td>\n",
       "    </tr>\n",
       "    <tr>\n",
       "      <th>14</th>\n",
       "      <td>10334</td>\n",
       "      <td>0</td>\n",
       "      <td>0</td>\n",
       "    </tr>\n",
       "    <tr>\n",
       "      <th>15</th>\n",
       "      <td>7144</td>\n",
       "      <td>0</td>\n",
       "      <td>1</td>\n",
       "    </tr>\n",
       "    <tr>\n",
       "      <th>16</th>\n",
       "      <td>4153</td>\n",
       "      <td>0</td>\n",
       "      <td>0</td>\n",
       "    </tr>\n",
       "    <tr>\n",
       "      <th>17</th>\n",
       "      <td>6245</td>\n",
       "      <td>1</td>\n",
       "      <td>1</td>\n",
       "    </tr>\n",
       "    <tr>\n",
       "      <th>18</th>\n",
       "      <td>5324</td>\n",
       "      <td>1</td>\n",
       "      <td>0</td>\n",
       "    </tr>\n",
       "    <tr>\n",
       "      <th>19</th>\n",
       "      <td>6363</td>\n",
       "      <td>1</td>\n",
       "      <td>1</td>\n",
       "    </tr>\n",
       "  </tbody>\n",
       "</table>\n",
       "</div>"
      ],
      "text/plain": [
       "    index  Actual_gender  Predicted_gender\n",
       "0    5745              0                 0\n",
       "1    1443              1                 0\n",
       "2    4023              1                 0\n",
       "3    8826              1                 1\n",
       "4    5053              1                 0\n",
       "5    7750              1                 1\n",
       "6    2179              0                 1\n",
       "7    2349              0                 0\n",
       "8    9368              0                 0\n",
       "9    7376              1                 1\n",
       "10   5307              0                 0\n",
       "11   4413              1                 0\n",
       "12   1037              0                 0\n",
       "13   4605              0                 1\n",
       "14  10334              0                 0\n",
       "15   7144              0                 1\n",
       "16   4153              0                 0\n",
       "17   6245              1                 1\n",
       "18   5324              1                 0\n",
       "19   6363              1                 1"
      ]
     },
     "execution_count": 128,
     "metadata": {},
     "output_type": "execute_result"
    }
   ],
   "source": [
    "#Created a DataFrame of the Predicted and Actual Gender for better visualization and understanding\n",
    "\n",
    "final_results=pd.DataFrame(columns=[\"Actual_gender\",\"Predicted_gender\"])\n",
    "final_results[\"Actual_gender\"]=y_test\n",
    "final_results[\"Predicted_gender\"]=predictions\n",
    "final_results.columns\n",
    "final_results.head(20).reset_index()"
   ]
  },
  {
   "cell_type": "code",
   "execution_count": 112,
   "metadata": {},
   "outputs": [],
   "source": [
    "#Satified the Part E) of the requirement\n",
    "\n",
    "#ANS:\n",
    "\n",
    "#Python and Jupyter notebook or any of the IDEs as it gives me the platform to work on machine learning related issues and also it has Pandas library that provides easy to use data structures and high-performance data analysis tools along with other packages.\n",
    "#The fact that I can take real time data and work and predict important events from it is itself an exciting thought for me and to be able do that gives me even more satisfaction, it’s basically having the power to predict the future with the events from the past.\n",
    "#Along with Jupyter notebook, Tableau and Cloud (AWS) are my 2 other favorite tools that I like to play around and learn more about it\n",
    "#A very important application of ML was when I could work on a Dataset which had asked me to classify Cancer as \"Malign\" and \"Benignant”. Having somebody very close to me, I have had experience of a mistake made by the doctor on the type of cancer diagnosed. And when I was able to build my own model based on the previous histories of patients, it personally gave me great satisfaction and motivation. "
   ]
  }
 ],
 "metadata": {
  "kernelspec": {
   "display_name": "Python 3",
   "language": "python",
   "name": "python3"
  },
  "language_info": {
   "codemirror_mode": {
    "name": "ipython",
    "version": 3
   },
   "file_extension": ".py",
   "mimetype": "text/x-python",
   "name": "python",
   "nbconvert_exporter": "python",
   "pygments_lexer": "ipython3",
   "version": "3.6.7"
  }
 },
 "nbformat": 4,
 "nbformat_minor": 2
}
