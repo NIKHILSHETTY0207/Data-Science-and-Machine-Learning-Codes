{
 "cells": [
  {
   "cell_type": "code",
   "execution_count": 36,
   "metadata": {},
   "outputs": [],
   "source": [
    "#I will scrape the data from the web, parse the results using regular expressions, and visualize the data"
   ]
  },
  {
   "cell_type": "code",
   "execution_count": 37,
   "metadata": {},
   "outputs": [],
   "source": [
    "#Web Scraping Using Requests and Beautiful Soup (bs4)"
   ]
  },
  {
   "cell_type": "code",
   "execution_count": 38,
   "metadata": {},
   "outputs": [],
   "source": [
    "# requests for fetching html of website\n",
    "import requests\n",
    "\n",
    "# Make the request to a url\n",
    "r=requests.get(\"http://www.cleveland.com/metro/index.ssf/2017/12/case_western_reserve_university_president_barbara_snyders_base_salary_and_bonus_pay_tops_among_private_colleges_in_ohio.html\")\n",
    "\n",
    "# Create soup from content of request\n",
    "c=r.content"
   ]
  },
  {
   "cell_type": "code",
   "execution_count": 39,
   "metadata": {},
   "outputs": [
    {
     "name": "stderr",
     "output_type": "stream",
     "text": [
      "/Users/nikhilshetty/anaconda3/lib/python3.6/site-packages/bs4/__init__.py:181: UserWarning: No parser was explicitly specified, so I'm using the best available HTML parser for this system (\"lxml\"). This usually isn't a problem, but if you run this code on another system, or in a different virtual environment, it may use a different parser and behave differently.\n",
      "\n",
      "The code that caused this warning is on line 193 of the file /Users/nikhilshetty/anaconda3/lib/python3.6/runpy.py. To get rid of this warning, change code that looks like this:\n",
      "\n",
      " BeautifulSoup(YOUR_MARKUP})\n",
      "\n",
      "to this:\n",
      "\n",
      " BeautifulSoup(YOUR_MARKUP, \"lxml\")\n",
      "\n",
      "  markup_type=markup_type))\n"
     ]
    }
   ],
   "source": [
    "from bs4 import BeautifulSoup\n",
    "soup=BeautifulSoup(c)"
   ]
  },
  {
   "cell_type": "code",
   "execution_count": 40,
   "metadata": {},
   "outputs": [
    {
     "data": {
      "text/plain": [
       "<div class=\"entry-content\" id=\"entryContent\">\n",
       "<p>CLEVELAND, Ohio - <a href=\"http://www.case.edu/\">Case Western Reserve University </a>President Barbara Snyder's $700,312 base pay and $175,000 bonus in 2015 again made her the highest paid private college leader in Ohio, according to an annual report.</p>\n",
       "<p>Nationally, Snyder's total compensation of $1.154 million, which can include deferred compensation and other pay, ranked 41st out of 541 presidents of private colleges according to the report by the <a href=\"http://chronicle.com/\">Chronicle of Higher Education.</a></p>\n",
       "<p>She is among 58 presidents to earn $1 million or more. The previous year, 39 private college presidents earned more than $1 million.</p>\n",
       "<p>The Chronicle's <a href=\"https://www.chronicle.com/interactives/executive-compensation#id=table_private_2015\">compensation tables </a>come from a review of federal tax documents from the 2015 calendar year, the most recent available. </p>\n",
       "<p>Former University of Dayton President Daniel Curran, who left in 2016, ranked eighth in the U.S. with a total compensation of $2.44 million, but $1.66 million of that was in other pay, which was likely deferred compensation awarded after he announced his retirement. His total pay in 2014 was $771,354.</p>\n",
       "<p>Following is total compensation for other presidents at private colleges in Ohio in 2015:</p>\n",
       "<ul>\n",
       "<li>Grant Cornwell, College of Wooster (left in 2015): $911,651</li>\n",
       "<li>Marvin Krislov, Oberlin College (left in 2016):  $829,913</li>\n",
       "<li>Mark Roosevelt, Antioch College, (left in 2015): $507,672</li>\n",
       "<li>Laurie Joyner, Wittenberg University (left in 2015): $463,504</li>\n",
       "<li>Richard Giese, University of Mount Union (left in 2015): $453,800</li>\n",
       "<li>Sean Decatur,Kenyon College: $451,698</li>\n",
       "<li>Adam Weinberg, Denison University: $435,322</li>\n",
       "<li>Daniel Dibiasio, Ohio Northern University: $414,716</li>\n",
       "<li>Denvy Bowman, Capital University (left in 2016): $388,570</li>\n",
       "<li>Anne Steele, Muskingum University (left in 2016): $384,233</li>\n",
       "<li>Kathy Krendl, Otterbein University:  $378,035</li>\n",
       "<li>Rockwell Jones, Ohio Wesleyan University: $366,625</li>\n",
       "<li>Robert Helmer, Baldwin Wallace University: $365,616</li>\n",
       "<li>Robert Huntington, Heidelberg University: $300,005</li>\n",
       "<li>Lori Varlotta, Hiram College: $293,336</li>\n",
       "<li>Joseph Bruno, Marietta College (left in 2016): $288,295</li>\n",
       "<li>W. Richard Merriman Jr., University of Mount Union (started in June 2015): $221,761</li>\n",
       "</ul>\n",
       "<p>The Rev. Robert Niehoff, president of John Carroll University (retired in 2017), Rev. Sean Sheridan of  Franciscan University of Steubenville and Rev. Michael Graham Xavier University do not take salaries.</p>\n",
       "<p>See the full list of presidents at <a href=\"http://www.chronicle.com/compensation\">chronicle.com/compensation.</a></p>\n",
       "<p>The Chronicle's list of pay for public college presidents was released in July.</p>\n",
       "<p><a href=\"http://www.cleveland.com/metro/index.ssf/2017/06/ohio_state_university_presiden_6.html\">Ohio State University President Michael Drake is 7th highest paid U.S. public college president</a></p>\n",
       "<p>Ohio State President Michael Drake, with a total compensation of $1.03 million, was one of eight presidents who earned $1 million or more in the 2015-16 fiscal year.</p>\n",
       "<p>But when compared to Ohio State's 2014 annual $5.2 billion operating budget, Drake's pay per million in expenses is $199 -- among the lowest for presidents.</p>\n",
       "<p>By comparison, Cleveland State University President Ronald Berkman, whose total compensation was $641,817, oversaw an annual operating budget of $300.3 million in 2014. His pay per million in expenses was $2,127.</p>\n",
       "<p>Kent State University President Beverly Warren's pay per million in expenses was $1,006. Her total compensation was $560,659 and she oversaw an annual operating budget of $557.4 million in 2014. </p>\n",
       "<p>The<a href=\"http://www.chronicle.com/interactives/executive-compensation\"> Chronicle's analysis </a>was based on 254 presidents from 221 colleges.</p>\n",
       "<p>According to the Chronicle:</p>\n",
       "<ul>\n",
       "<li>The average pay of private college presidents who served the full year in 2015 was $569,932, up 9 percent over presidents who served a full year in 2014.</li>\n",
       "<li>Nine of the 10 highest-paid chief executives earned more from bonuses and deferred compensation than they did from base salaries.</li>\n",
       "<li>The analysis is based on the latest available federal tax filings of the 500 private, nonprofit colleges with the largest endowments. The data include compensation figures for 568 presidents who served at 500 institutions for all or part of 2015. There were 352 presidents who served all of 2014 and 2015.</li>\n",
       "<li>The number of presidents earning over $1 million is attributed, in part, to a market where presidents are negotiating more deferred compensation and bonus packages before they take the job.</li>\n",
       "<li>The top two earners, Wake Forest University President Nathan Hatch ($4 million) and former Emory University President James Wagner ($3.5 million) were each paid more than $2 million in deferred compensation in 2015.</li>\n",
       "</ul>\n",
       "<p>The Chronicle also compares pay to presidents in context of their colleges, including looking at each institution's expenses, average tuition and fees and professor salaries.</p>\n",
       "</div>"
      ]
     },
     "execution_count": 40,
     "metadata": {},
     "output_type": "execute_result"
    }
   ],
   "source": [
    "# Find the element on the webpage\n",
    "\n",
    "main_content=soup.find(\"div\",attrs={\"class\":\"entry-content\"})\n",
    "main_content"
   ]
  },
  {
   "cell_type": "code",
   "execution_count": 41,
   "metadata": {},
   "outputs": [
    {
     "data": {
      "text/plain": [
       "'\\nGrant Cornwell, College of Wooster (left in 2015): $911,651\\nMarvin Krislov, Oberlin College (left in 2016): \\xa0$829,913\\nMark Roosevelt, Antioch College, (left in 2015): $507,672\\nLaurie Joyner, Wittenberg University (left in 2015): $463,504\\nRichard Giese, University of Mount Union (left in 2015): $453,800\\nSean Decatur,Kenyon College: $451,698\\nAdam Weinberg, Denison University: $435,322\\nDaniel Dibiasio, Ohio Northern University: $414,716\\nDenvy Bowman, Capital University (left in 2016): $388,570\\nAnne Steele, Muskingum University (left in 2016): $384,233\\nKathy Krendl, Otterbein University: \\xa0$378,035\\nRockwell Jones, Ohio Wesleyan University: $366,625\\nRobert Helmer, Baldwin Wallace University: $365,616\\nRobert Huntington, Heidelberg University: $300,005\\nLori Varlotta, Hiram College: $293,336\\nJoseph Bruno, Marietta College (left in 2016): $288,295\\nW. Richard Merriman Jr., University of Mount Union (started in June 2015): $221,761\\n'"
      ]
     },
     "execution_count": 41,
     "metadata": {},
     "output_type": "execute_result"
    }
   ],
   "source": [
    "# Extract the relevant information\n",
    "\n",
    "content=main_content.find(\"ul\").text\n",
    "content"
   ]
  },
  {
   "cell_type": "code",
   "execution_count": 42,
   "metadata": {},
   "outputs": [
    {
     "name": "stdout",
     "output_type": "stream",
     "text": [
      "('\\n'\n",
      " 'Grant Cornwell, College of Wooster (left in 2015): $911,651\\n'\n",
      " 'Marvin Krislov, Oberlin College (left in 2016): \\xa0$829,913\\n'\n",
      " 'Mark Roosevelt, Antioch College, (left in 2015): $507,672\\n'\n",
      " 'Laurie Joyner, Wittenberg University (left in 2015): $463,504\\n'\n",
      " 'Richard Giese, University of Mount Union (left in 2015): $453,800\\n'\n",
      " 'Sean Decatur,Kenyon College: $451,698\\n'\n",
      " 'Adam Weinberg, Denison University: $435,322\\n'\n",
      " 'Daniel Dibiasio, Ohio Northern University: $414,716\\n'\n",
      " 'Denvy Bowman, Capital University (left in 2016): $388,570\\n'\n",
      " 'Anne Steele, Muskingum University (left in 2016): $384,233\\n'\n",
      " 'Kathy Krendl, Otterbein University: \\xa0$378,035\\n'\n",
      " 'Rockwell Jones, Ohio Wesleyan University: $366,625\\n'\n",
      " 'Robert Helmer, Baldwin Wallace University: $365,616\\n'\n",
      " 'Robert Huntington, Heidelberg University: $300,005\\n'\n",
      " 'Lori Varlotta, Hiram College: $293,336\\n'\n",
      " 'Joseph Bruno, Marietta College (left in 2016): $288,295\\n'\n",
      " 'W. Richard Merriman Jr., University of Mount Union (started in June 2015): '\n",
      " '$221,761\\n')\n"
     ]
    }
   ],
   "source": [
    "import pprint\n",
    "pprint.pprint(content)"
   ]
  },
  {
   "cell_type": "code",
   "execution_count": 74,
   "metadata": {},
   "outputs": [
    {
     "data": {
      "text/plain": [
       "['Grant Cornwell',\n",
       " 'Marvin Krislov',\n",
       " 'Mark Roosevelt',\n",
       " 'Laurie Joyner',\n",
       " 'Richard Giese',\n",
       " 'Sean Decatur',\n",
       " 'Adam Weinberg',\n",
       " 'Daniel Dibiasio',\n",
       " 'Denvy Bowman',\n",
       " 'Anne Steele',\n",
       " 'Kathy Krendl',\n",
       " 'Rockwell Jones',\n",
       " 'Robert Helmer',\n",
       " 'Robert Huntington',\n",
       " 'Lori Varlotta',\n",
       " 'Joseph Bruno',\n",
       " 'W. Richard Merriman Jr.']"
      ]
     },
     "execution_count": 74,
     "metadata": {},
     "output_type": "execute_result"
    }
   ],
   "source": [
    "#The next step is to parse this information using regular expressions to identify the presidents, colleges, and salaries\n",
    "#Regular Expressions\n",
    "\n",
    "#I extracted the names of the presidents.\n",
    "import re\n",
    "\n",
    "\n",
    "name_pattern = re.compile(r'^([A-Z]{1}.+?)(?:,)', flags = re.M)\n",
    "names=name_pattern.findall(content)\n",
    "names"
   ]
  },
  {
   "cell_type": "code",
   "execution_count": 69,
   "metadata": {},
   "outputs": [
    {
     "data": {
      "text/plain": [
       "['College of Wooster',\n",
       " 'Oberlin College',\n",
       " 'Antioch College',\n",
       " 'Wittenberg University',\n",
       " 'University of Mount Union',\n",
       " 'Kenyon College',\n",
       " 'Denison University',\n",
       " 'Ohio Northern University',\n",
       " 'Capital University',\n",
       " 'Muskingum University',\n",
       " 'Otterbein University',\n",
       " 'Ohio Wesleyan University',\n",
       " 'Baldwin Wallace University',\n",
       " 'Heidelberg University',\n",
       " 'Hiram College',\n",
       " 'Marietta College',\n",
       " 'University of Mount Union']"
      ]
     },
     "execution_count": 69,
     "metadata": {},
     "output_type": "execute_result"
    }
   ],
   "source": [
    "#I extracted the names of the Colleges\n",
    "\n",
    "school_pattern = re.compile(r'(?:,|,\\s)([A-Z]{1}.*?)(?:\\s\\(|:|,)')\n",
    "schools=school_pattern.findall(content)\n",
    "schools"
   ]
  },
  {
   "cell_type": "code",
   "execution_count": 45,
   "metadata": {},
   "outputs": [
    {
     "data": {
      "text/plain": [
       "['$911,651',\n",
       " '$829,913',\n",
       " '$507,672',\n",
       " '$463,504',\n",
       " '$453,800',\n",
       " '$451,698',\n",
       " '$435,322',\n",
       " '$414,716',\n",
       " '$388,570',\n",
       " '$384,233',\n",
       " '$378,035',\n",
       " '$366,625',\n",
       " '$365,616',\n",
       " '$300,005',\n",
       " '$293,336',\n",
       " '$288,295',\n",
       " '$221,761']"
      ]
     },
     "execution_count": 45,
     "metadata": {},
     "output_type": "execute_result"
    }
   ],
   "source": [
    "#I extract the salaries\n",
    "salary_pattern = re.compile(r'\\$.+')\n",
    "salar_y = salary_pattern.findall(content)\n",
    "salar_y"
   ]
  },
  {
   "cell_type": "code",
   "execution_count": 46,
   "metadata": {},
   "outputs": [
    {
     "data": {
      "text/plain": [
       "911651"
      ]
     },
     "execution_count": 46,
     "metadata": {},
     "output_type": "execute_result"
    }
   ],
   "source": [
    "salary='$911,651'\n",
    "int(\"\".join(salary[1:].split(',')))"
   ]
  },
  {
   "cell_type": "code",
   "execution_count": 53,
   "metadata": {},
   "outputs": [
    {
     "data": {
      "text/plain": [
       "[911651,\n",
       " 829913,\n",
       " 507672,\n",
       " 463504,\n",
       " 453800,\n",
       " 451698,\n",
       " 435322,\n",
       " 414716,\n",
       " 388570,\n",
       " 384233,\n",
       " 378035,\n",
       " 366625,\n",
       " 365616,\n",
       " 300005,\n",
       " 293336,\n",
       " 288295,\n",
       " 221761]"
      ]
     },
     "execution_count": 53,
     "metadata": {},
     "output_type": "execute_result"
    }
   ],
   "source": [
    "# Extract all the salaries and convert to integers\n",
    "salar_y = salary_pattern.findall(content)\n",
    "\n",
    "# List comprehension to convert strings to floats\n",
    "salar_y = [int(''.join(s[1:].split(','))) for s in salar_y]\n",
    "salar_y"
   ]
  },
  {
   "cell_type": "code",
   "execution_count": 75,
   "metadata": {},
   "outputs": [
    {
     "data": {
      "text/plain": [
       "17"
      ]
     },
     "execution_count": 75,
     "metadata": {},
     "output_type": "execute_result"
    }
   ],
   "source": [
    "len(names)"
   ]
  },
  {
   "cell_type": "code",
   "execution_count": 76,
   "metadata": {},
   "outputs": [
    {
     "data": {
      "text/plain": [
       "17"
      ]
     },
     "execution_count": 76,
     "metadata": {},
     "output_type": "execute_result"
    }
   ],
   "source": [
    "len(schools)"
   ]
  },
  {
   "cell_type": "code",
   "execution_count": 77,
   "metadata": {},
   "outputs": [
    {
     "data": {
      "text/plain": [
       "17"
      ]
     },
     "execution_count": 77,
     "metadata": {},
     "output_type": "execute_result"
    }
   ],
   "source": [
    "len(salar_y)"
   ]
  },
  {
   "cell_type": "code",
   "execution_count": 79,
   "metadata": {},
   "outputs": [],
   "source": [
    "#Append information into a dataframe\n",
    "\n",
    "import pandas as pd\n",
    "\n",
    "df = pd.DataFrame({'salary': salar_y, \n",
    "                   'President': names,\n",
    "                   'College': schools})"
   ]
  },
  {
   "cell_type": "code",
   "execution_count": 80,
   "metadata": {},
   "outputs": [
    {
     "data": {
      "text/html": [
       "<div>\n",
       "<style scoped>\n",
       "    .dataframe tbody tr th:only-of-type {\n",
       "        vertical-align: middle;\n",
       "    }\n",
       "\n",
       "    .dataframe tbody tr th {\n",
       "        vertical-align: top;\n",
       "    }\n",
       "\n",
       "    .dataframe thead th {\n",
       "        text-align: right;\n",
       "    }\n",
       "</style>\n",
       "<table border=\"1\" class=\"dataframe\">\n",
       "  <thead>\n",
       "    <tr style=\"text-align: right;\">\n",
       "      <th></th>\n",
       "      <th>salary</th>\n",
       "      <th>President</th>\n",
       "      <th>College</th>\n",
       "    </tr>\n",
       "  </thead>\n",
       "  <tbody>\n",
       "    <tr>\n",
       "      <th>0</th>\n",
       "      <td>911651</td>\n",
       "      <td>Grant Cornwell</td>\n",
       "      <td>College of Wooster</td>\n",
       "    </tr>\n",
       "    <tr>\n",
       "      <th>1</th>\n",
       "      <td>829913</td>\n",
       "      <td>Marvin Krislov</td>\n",
       "      <td>Oberlin College</td>\n",
       "    </tr>\n",
       "    <tr>\n",
       "      <th>2</th>\n",
       "      <td>507672</td>\n",
       "      <td>Mark Roosevelt</td>\n",
       "      <td>Antioch College</td>\n",
       "    </tr>\n",
       "    <tr>\n",
       "      <th>3</th>\n",
       "      <td>463504</td>\n",
       "      <td>Laurie Joyner</td>\n",
       "      <td>Wittenberg University</td>\n",
       "    </tr>\n",
       "    <tr>\n",
       "      <th>4</th>\n",
       "      <td>453800</td>\n",
       "      <td>Richard Giese</td>\n",
       "      <td>University of Mount Union</td>\n",
       "    </tr>\n",
       "    <tr>\n",
       "      <th>5</th>\n",
       "      <td>451698</td>\n",
       "      <td>Sean Decatur</td>\n",
       "      <td>Kenyon College</td>\n",
       "    </tr>\n",
       "    <tr>\n",
       "      <th>6</th>\n",
       "      <td>435322</td>\n",
       "      <td>Adam Weinberg</td>\n",
       "      <td>Denison University</td>\n",
       "    </tr>\n",
       "    <tr>\n",
       "      <th>7</th>\n",
       "      <td>414716</td>\n",
       "      <td>Daniel Dibiasio</td>\n",
       "      <td>Ohio Northern University</td>\n",
       "    </tr>\n",
       "    <tr>\n",
       "      <th>8</th>\n",
       "      <td>388570</td>\n",
       "      <td>Denvy Bowman</td>\n",
       "      <td>Capital University</td>\n",
       "    </tr>\n",
       "    <tr>\n",
       "      <th>9</th>\n",
       "      <td>384233</td>\n",
       "      <td>Anne Steele</td>\n",
       "      <td>Muskingum University</td>\n",
       "    </tr>\n",
       "    <tr>\n",
       "      <th>10</th>\n",
       "      <td>378035</td>\n",
       "      <td>Kathy Krendl</td>\n",
       "      <td>Otterbein University</td>\n",
       "    </tr>\n",
       "    <tr>\n",
       "      <th>11</th>\n",
       "      <td>366625</td>\n",
       "      <td>Rockwell Jones</td>\n",
       "      <td>Ohio Wesleyan University</td>\n",
       "    </tr>\n",
       "    <tr>\n",
       "      <th>12</th>\n",
       "      <td>365616</td>\n",
       "      <td>Robert Helmer</td>\n",
       "      <td>Baldwin Wallace University</td>\n",
       "    </tr>\n",
       "    <tr>\n",
       "      <th>13</th>\n",
       "      <td>300005</td>\n",
       "      <td>Robert Huntington</td>\n",
       "      <td>Heidelberg University</td>\n",
       "    </tr>\n",
       "    <tr>\n",
       "      <th>14</th>\n",
       "      <td>293336</td>\n",
       "      <td>Lori Varlotta</td>\n",
       "      <td>Hiram College</td>\n",
       "    </tr>\n",
       "    <tr>\n",
       "      <th>15</th>\n",
       "      <td>288295</td>\n",
       "      <td>Joseph Bruno</td>\n",
       "      <td>Marietta College</td>\n",
       "    </tr>\n",
       "    <tr>\n",
       "      <th>16</th>\n",
       "      <td>221761</td>\n",
       "      <td>W. Richard Merriman Jr.</td>\n",
       "      <td>University of Mount Union</td>\n",
       "    </tr>\n",
       "  </tbody>\n",
       "</table>\n",
       "</div>"
      ],
      "text/plain": [
       "    salary                President                     College\n",
       "0   911651           Grant Cornwell          College of Wooster\n",
       "1   829913           Marvin Krislov             Oberlin College\n",
       "2   507672           Mark Roosevelt             Antioch College\n",
       "3   463504            Laurie Joyner       Wittenberg University\n",
       "4   453800            Richard Giese   University of Mount Union\n",
       "5   451698             Sean Decatur              Kenyon College\n",
       "6   435322            Adam Weinberg          Denison University\n",
       "7   414716          Daniel Dibiasio    Ohio Northern University\n",
       "8   388570             Denvy Bowman          Capital University\n",
       "9   384233              Anne Steele        Muskingum University\n",
       "10  378035             Kathy Krendl        Otterbein University\n",
       "11  366625           Rockwell Jones    Ohio Wesleyan University\n",
       "12  365616            Robert Helmer  Baldwin Wallace University\n",
       "13  300005        Robert Huntington       Heidelberg University\n",
       "14  293336            Lori Varlotta               Hiram College\n",
       "15  288295             Joseph Bruno            Marietta College\n",
       "16  221761  W. Richard Merriman Jr.   University of Mount Union"
      ]
     },
     "execution_count": 80,
     "metadata": {},
     "output_type": "execute_result"
    }
   ],
   "source": [
    "df"
   ]
  },
  {
   "cell_type": "code",
   "execution_count": 82,
   "metadata": {},
   "outputs": [
    {
     "data": {
      "text/plain": [
       "<matplotlib.axes._subplots.AxesSubplot at 0x11137afd0>"
      ]
     },
     "execution_count": 82,
     "metadata": {},
     "output_type": "execute_result"
    },
    {
     "data": {
      "image/png": "[encoded data removed]",
      "text/plain": [
       "<Figure size 432x288 with 1 Axes>"
      ]
     },
     "metadata": {},
     "output_type": "display_data"
    }
   ],
   "source": [
    "#Data Visualization\n",
    "\n",
    "df.plot(kind='barh', x = 'President', y = 'salary')"
   ]
  }
 ],
 "metadata": {
  "kernelspec": {
   "display_name": "Python 3",
   "language": "python",
   "name": "python3"
  },
  "language_info": {
   "codemirror_mode": {
    "name": "ipython",
    "version": 3
   },
   "file_extension": ".py",
   "mimetype": "text/x-python",
   "name": "python",
   "nbconvert_exporter": "python",
   "pygments_lexer": "ipython3",
   "version": "3.6.7"
  }
 },
 "nbformat": 4,
 "nbformat_minor": 2
}
